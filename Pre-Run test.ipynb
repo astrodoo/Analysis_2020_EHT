{
 "cells": [
  {
   "cell_type": "markdown",
   "metadata": {},
   "source": [
    "# Aspect Ratio\n",
    "\n",
    "1. dr = (log10(Rout)-log10(Rin))/log(2.71)/N1 = ln(Rout/Rin) / N1 \n",
    "1. d$\\theta$ = 3.14/N2\n",
    "1. d$\\phi$ = 6.28/N3"
   ]
  },
  {
   "cell_type": "code",
   "execution_count": 3,
   "metadata": {},
   "outputs": [
    {
     "name": "stdout",
     "output_type": "stream",
     "text": [
      "Resolution:  192 64 64\n",
      "ncells in phi: 64\n",
      "ncells of base grid in phi after internal derefinement: 16\n",
      "dr0: 0.058957, dth0: 0.049087, dphi0: 0.098175\n",
      "aspect ratio: dr0:dth0:dphi0 =  1:0.83:1.67\n"
     ]
    }
   ],
   "source": [
    "import numpy as np\n",
    "\n",
    "Rout = 1e5 \n",
    "Rin  = 1.2131\n",
    "\n",
    "derefpole = 0.\n",
    "intderef  = 2.\n",
    "\n",
    "N1 = 4*48\n",
    "N2 = 2*32\n",
    "N3 = 2*32\n",
    "\n",
    "dr0 = np.log(Rout/Rin) / N1\n",
    "th0 = np.pi / N2\n",
    "ph0 = 2*np.pi / N3 / 2**derefpole\n",
    "\n",
    "ncells_phi = N3*2**derefpole\n",
    "ncells_pole = N3 / 2.**intderef\n",
    "\n",
    "print('Resolution: ', N1,N2,N3)\n",
    "print('ncells in phi: %d'%ncells_phi)\n",
    "print('ncells of base grid in phi after internal derefinement: %d'%ncells_pole)\n",
    "\n",
    "print('dr0: %f, dth0: %f, dphi0: %f'%(dr0,th0,ph0))\n",
    "print('aspect ratio: dr0:dth0:dphi0 =  1:%2.2f:%2.2f'%(th0/dr0,ph0/dr0))\n",
    "\n",
    "#print(dr0,Rin*th0,Rin*ph0/2.**dereflev)"
   ]
  },
  {
   "cell_type": "code",
   "execution_count": 3,
   "metadata": {},
   "outputs": [
    {
     "name": "stdout",
     "output_type": "stream",
     "text": [
      "Rin = 1.213100, Rout = 1.000000e+03\n",
      "NB1 = 6, NB2 = 4, NB3 = 4\n",
      "BS1 = 60, BS2 = 40, BS3 = 40\n",
      "nlevel of the internal derefinement = 3\n",
      "No external derefinement\n",
      "resolution of the base grid = (360,160,160)\n",
      "full resolution = (360,160,160)\n",
      "***********************************************************************************************\n",
      "Number of GPUs = 6, Memory per GPU (bytes) = 1.600000e+10\n",
      "-------------------------------- Optimal Configuration ----------------------------------------\n",
      "Number of blocks per GPU = 15\n",
      "Number of cells per GPU = 150^3, Maximum number of cells per GPU ~ 237^3\n",
      "Number of cells per block ~ 60^3 -> compare with BS1/BS2/BS3\n",
      "Total number of blocks: Number of cells / Number of cells per block = 40, Number of blocks per GPU x Number of GPUs = 90\n",
      "--------------------------------- Exact Configuration -----------------------------------------\n",
      "Number of blocks per GPU = 16\n",
      "Number of cells per GPU = 115^3\n",
      "Number of cells per block ~ 46^3 -> compare with BS1/BS2/BS3\n",
      "Total number of blocks: NB1xNB2xNB3x2^nlevs_ext = 96\n",
      "***********************************************************************************************\n",
      "dr0: 0.018652, dth0: 0.019635, dphi0: 0.039270\n",
      "Aspect ratio: dr0:dth0:dphi0 =  1:1.05:2.11\n",
      "Number of cells around pole (reduced by the internal derefinement) = 20\n"
     ]
    }
   ],
   "source": [
    "from pyhamrds.modules import Modules as md\n",
    "\n",
    "md.print_conf(nlevs_int=3,Rout=1e3, NGPU=6, NB1=6, NB2=4, NB3=4, BS1=60, BS2=40, BS3=40, deref_ext=False)"
   ]
  },
  {
   "cell_type": "code",
   "execution_count": 4,
   "metadata": {},
   "outputs": [
    {
     "name": "stdout",
     "output_type": "stream",
     "text": [
      "Rin = 1.213100, Rout = 1.000000e+03\n",
      "NB1 = 6, NB2 = 4, NB3 = 4\n",
      "BS1 = 58, BS2 = 32, BS3 = 48\n",
      "nlevel of the internal derefinement = 4\n",
      "No external derefinement\n",
      "resolution of the base grid = (348,128,192)\n",
      "full resolution = (348,128,192)\n",
      "***********************************************************************************************\n",
      "Number of GPUs = 6, Memory per GPU (bytes) = 1.600000e+10\n",
      "-------------------------------- Optimal Configuration ----------------------------------------\n",
      "Number of blocks per GPU = 15\n",
      "Number of cells per GPU = 150^3, Maximum number of cells per GPU ~ 237^3\n",
      "Number of cells per block ~ 60^3 -> compare with BS1/BS2/BS3\n",
      "Total number of blocks: Number of cells / Number of cells per block = 38, Number of blocks per GPU x Number of GPUs = 90\n",
      "--------------------------------- Exact Configuration -----------------------------------------\n",
      "Number of blocks per GPU = 16\n",
      "Number of cells per GPU = 112^3\n",
      "Number of cells per block ~ 45^3 -> compare with BS1/BS2/BS3\n",
      "Total number of blocks: NB1xNB2xNB3x2^nlevs_ext = 96\n",
      "***********************************************************************************************\n",
      "dr0: 0.019295, dth0: 0.024544, dphi0: 0.032725\n",
      "Aspect ratio: dr0:dth0:dphi0 =  1:1.27:1.70\n",
      "Number of cells around pole (reduced by the internal derefinement) = 12\n"
     ]
    }
   ],
   "source": [
    "from pyhamrds.modules import Modules as md\n",
    "\n",
    "md.print_conf(nlevs_int=4,Rout=1e3, NGPU=6, NB1=6, NB2=4, NB3=4, BS1=58, BS2=32, BS3=48, deref_ext=False)"
   ]
  },
  {
   "cell_type": "code",
   "execution_count": 12,
   "metadata": {},
   "outputs": [
    {
     "name": "stdout",
     "output_type": "stream",
     "text": [
      "index for R=50.000000: 199\n",
      "R and x1 at index of 199 = 49.642513, 3.904848\n"
     ]
    }
   ],
   "source": [
    "import numpy as np\n",
    "Rin   = 1.2131\n",
    "Rout  = 1000.\n",
    "Rcut  = 50.\n",
    "Rres  = 360\n",
    "\n",
    "x1in  = np.log(Rin)\n",
    "x1out = np.log(Rout)\n",
    "x1cut = np.log(Rcut)\n",
    "\n",
    "dx1   = (x1out-x1in)/Rres \n",
    "\n",
    "x1cut_ind = int((x1cut-x1in)/dx1)\n",
    "\n",
    "print('index for R=%f: %d'%(Rcut,x1cut_ind))\n",
    "x1cut_cal = x1in + x1cut_ind*dx1\n",
    "r1cut_cal = np.exp(x1cut_cal)\n",
    "print('R and x1 at index of %d = %f, %f'%(x1cut_ind, r1cut_cal,x1cut_cal))"
   ]
  },
  {
   "cell_type": "code",
   "execution_count": 8,
   "metadata": {},
   "outputs": [],
   "source": [
    "?md.print_conf"
   ]
  },
  {
   "cell_type": "code",
   "execution_count": null,
   "metadata": {},
   "outputs": [],
   "source": []
  },
  {
   "cell_type": "code",
   "execution_count": null,
   "metadata": {},
   "outputs": [],
   "source": []
  },
  {
   "cell_type": "code",
   "execution_count": 1,
   "metadata": {},
   "outputs": [
    {
     "name": "stdout",
     "output_type": "stream",
     "text": [
      "Resolution:  192 144 96\n",
      "ncells in phi: 96\n",
      "ncells of base grid in phi after internal derefinement: 48\n",
      "dr0: 0.058957, dth0: 0.021817, dphi0: 0.065450\n",
      "aspect ratio: dr0:dth0:dphi0 =  1:0.37:1.11\n"
     ]
    }
   ],
   "source": [
    "import numpy as np\n",
    "\n",
    "Rout = 1e5 \n",
    "Rin  = 1.2131\n",
    "\n",
    "derefpole = 0.\n",
    "intderef  = 1.\n",
    "\n",
    "N1 = 4*48\n",
    "N2 = 6*24\n",
    "N3 = 4*24\n",
    "\n",
    "dr0 = np.log(Rout/Rin) / N1\n",
    "th0 = np.pi / N2\n",
    "ph0 = 2*np.pi / N3 / 2**derefpole\n",
    "\n",
    "ncells_phi = N3*2**derefpole\n",
    "ncells_pole = N3 / 2.**intderef\n",
    "\n",
    "print('Resolution: ', N1,N2,N3)\n",
    "print('ncells in phi: %d'%ncells_phi)\n",
    "print('ncells of base grid in phi after internal derefinement: %d'%ncells_pole)\n",
    "\n",
    "print('dr0: %f, dth0: %f, dphi0: %f'%(dr0,th0,ph0))\n",
    "print('aspect ratio: dr0:dth0:dphi0 =  1:%2.2f:%2.2f'%(th0/dr0,ph0/dr0))\n",
    "\n",
    "#print(dr0,Rin*th0,Rin*ph0/2.**dereflev)"
   ]
  },
  {
   "cell_type": "code",
   "execution_count": 11,
   "metadata": {},
   "outputs": [
    {
     "name": "stdout",
     "output_type": "stream",
     "text": [
      "Resolution:  192 64 64\n",
      "ncells in phi: 64\n",
      "ncells of base grid in phi after internal derefinement: 32\n",
      "dr0: 0.058957, dth0: 0.049087, dphi0: 0.098175\n",
      "aspect ratio: dr0:dth0:dphi0 =  1:0.83:1.67\n"
     ]
    }
   ],
   "source": [
    "import numpy as np\n",
    "\n",
    "Rout = 1e5 \n",
    "Rin  = 1.2131\n",
    "\n",
    "derefpole = 0.\n",
    "intderef  = 1.\n",
    "\n",
    "N1 = 4*48\n",
    "N2 = 2*32\n",
    "N3 = 2*32\n",
    "\n",
    "dr0 = np.log(Rout/Rin) / N1\n",
    "th0 = np.pi / N2\n",
    "ph0 = 2*np.pi / N3 / 2**derefpole\n",
    "\n",
    "ncells_phi = N3*2**derefpole\n",
    "ncells_pole = N3 / 2.**intderef\n",
    "\n",
    "print('Resolution: ', N1,N2,N3)\n",
    "print('ncells in phi: %d'%ncells_phi)\n",
    "print('ncells of base grid in phi after internal derefinement: %d'%ncells_pole)\n",
    "\n",
    "print('dr0: %f, dth0: %f, dphi0: %f'%(dr0,th0,ph0))\n",
    "print('aspect ratio: dr0:dth0:dphi0 =  1:%2.2f:%2.2f'%(th0/dr0,ph0/dr0))\n",
    "\n",
    "#print(dr0,Rin*th0,Rin*ph0/2.**dereflev)"
   ]
  },
  {
   "cell_type": "code",
   "execution_count": null,
   "metadata": {},
   "outputs": [],
   "source": []
  },
  {
   "cell_type": "code",
   "execution_count": null,
   "metadata": {},
   "outputs": [],
   "source": []
  },
  {
   "cell_type": "code",
   "execution_count": null,
   "metadata": {},
   "outputs": [],
   "source": []
  },
  {
   "cell_type": "code",
   "execution_count": 1,
   "metadata": {},
   "outputs": [
    {
     "name": "stdout",
     "output_type": "stream",
     "text": [
      "Resolution:  648 384 192\n",
      "ncells in phi: 384\n",
      "ncells of base grid in phi after internal derefinement: 24\n",
      "dr0: 0.008223, dth0: 0.008181, dphi0: 0.016362\n",
      "aspect ratio: dr0:dth0:dphi0 =  1:0.99:1.99\n"
     ]
    }
   ],
   "source": [
    "import numpy as np\n",
    "\n",
    "Rout = 250. \n",
    "Rin  = 1.2131\n",
    "\n",
    "derefpole = 1.\n",
    "intderef  = 3.\n",
    "\n",
    "N1 = 6*108\n",
    "N2 = 6*64\n",
    "N3 = 4*48\n",
    "\n",
    "dr0 = np.log(Rout/Rin) / N1\n",
    "th0 = np.pi / N2\n",
    "ph0 = 2*np.pi / N3 / 2**derefpole\n",
    "\n",
    "ncells_phi = N3*2**derefpole\n",
    "ncells_pole = N3 / 2.**intderef\n",
    "\n",
    "print('Resolution: ', N1,N2,N3)\n",
    "print('ncells in phi: %d'%ncells_phi)\n",
    "print('ncells of base grid in phi after internal derefinement: %d'%ncells_pole)\n",
    "\n",
    "print('dr0: %f, dth0: %f, dphi0: %f'%(dr0,th0,ph0))\n",
    "print('aspect ratio: dr0:dth0:dphi0 =  1:%2.2f:%2.2f'%(th0/dr0,ph0/dr0))\n",
    "\n",
    "#print(dr0,Rin*th0,Rin*ph0/2.**dereflev)"
   ]
  },
  {
   "cell_type": "code",
   "execution_count": 6,
   "metadata": {},
   "outputs": [
    {
     "name": "stdout",
     "output_type": "stream",
     "text": [
      "Rin = 1.213100, Rout = 2.500000e+02\n",
      "NB1 = 6, NB2 = 6, NB3 = 4\n",
      "BS1 = 108, BS2 = 64, BS3 = 48\n",
      "nlevel of the internal derefinement = 3\n",
      "nlevels of the external derefinement = 1\n",
      "resolution of the base grid = (648,384,192)\n",
      "full resolution = (648,384,384)\n",
      "***********************************************************************************************\n",
      "Number of GPUs = 12, Memory per GPU (bytes) = 1.600000e+10\n",
      "-------------------------------- Optimal Configuration ----------------------------------------\n",
      "Number of blocks per GPU = 30\n",
      "Number of cells per GPU = 200^3, Maximum number of cells per GPU ~ 237^3\n",
      "Number of cells per block ~ 64^3 -> compare with BS1/BS2/BS3\n",
      "Total number of blocks: Number of cells / Number of cells per block = 358, Number of blocks per GPU x Number of GPUs = 360\n",
      "--------------------------------- Exact Configuration -----------------------------------------\n",
      "Number of blocks per GPU = 24\n",
      "Number of cells per GPU = 199^3\n",
      "Number of cells per block ~ 64^3 -> compare with BS1/BS2/BS3\n",
      "Total number of blocks: NB1xNB2xNB3x2^nlevs_ext = 288\n",
      "***********************************************************************************************\n",
      "dr0: 0.008223, dth0: 0.008181, dphi0: 0.016362\n",
      "Aspect ratio: dr0:dth0:dphi0 =  1:0.99:1.99\n",
      "Number of cells around pole (reduced by the internal derefinement) = 24\n"
     ]
    }
   ],
   "source": [
    "from pyhamrds.modules import Modules as md\n",
    "\n",
    "md.print_conf(Rout=250.,Rin=1.2131,NB1=6,NB2=6,NB3=4,BS1=108,BS2=64,BS3=48,deref_ext=True,nlevs_int=3, \\\n",
    "             NGPU=12, NB_GPU=30, NC_GPU_1d=200)"
   ]
  },
  {
   "cell_type": "code",
   "execution_count": null,
   "metadata": {},
   "outputs": [],
   "source": []
  },
  {
   "cell_type": "code",
   "execution_count": 5,
   "metadata": {},
   "outputs": [
    {
     "name": "stdout",
     "output_type": "stream",
     "text": [
      "336\n"
     ]
    }
   ],
   "source": [
    "print(6*4*(2*4+ 2 +4))"
   ]
  },
  {
   "cell_type": "code",
   "execution_count": 32,
   "metadata": {},
   "outputs": [
    {
     "name": "stdout",
     "output_type": "stream",
     "text": [
      "Resolution:  128 64 64\n",
      "ncells in phi: 64\n",
      "ncells of base grid in phi after internal derefinement: 16\n",
      "dr0: 0.041627, dth0: 0.049087, dphi0: 0.098175\n",
      "aspect ratio: dr0:dth0:dphi0 =  1:1.18:2.36\n"
     ]
    }
   ],
   "source": [
    "import numpy as np\n",
    "\n",
    "Rout = 250. \n",
    "Rin  = 1.2131\n",
    "\n",
    "derefpole = 0.\n",
    "intderef  = 2.\n",
    "\n",
    "N1 = 4*32\n",
    "N2 = 1*64\n",
    "N3 = 1*64\n",
    "\n",
    "dr0 = np.log(Rout/Rin) / N1\n",
    "th0 = np.pi / N2\n",
    "ph0 = 2*np.pi / N3 / 2**derefpole\n",
    "\n",
    "ncells_phi = N3*2**derefpole\n",
    "ncells_pole = N3 / 2.**intderef\n",
    "\n",
    "print('Resolution: ', N1,N2,N3)\n",
    "print('ncells in phi: %d'%ncells_phi)\n",
    "print('ncells of base grid in phi after internal derefinement: %d'%ncells_pole)\n",
    "\n",
    "print('dr0: %f, dth0: %f, dphi0: %f'%(dr0,th0,ph0))\n",
    "print('aspect ratio: dr0:dth0:dphi0 =  1:%2.2f:%2.2f'%(th0/dr0,ph0/dr0))\n",
    "\n",
    "#print(dr0,Rin*th0,Rin*ph0/2.**dereflev)"
   ]
  },
  {
   "cell_type": "code",
   "execution_count": 5,
   "metadata": {},
   "outputs": [
    {
     "name": "stdout",
     "output_type": "stream",
     "text": [
      "Resolution:  192 128 128\n",
      "ncells in phi: 128\n",
      "ncells of base grid in phi after internal derefinement: 32\n",
      "dr0: 0.027751, dth0: 0.024544, dphi0: 0.049087\n",
      "aspect ratio: dr0:dth0:dphi0 =  1:0.88:1.77\n"
     ]
    }
   ],
   "source": [
    "import numpy as np\n",
    "\n",
    "Rout = 250. \n",
    "Rin  = 1.2131\n",
    "\n",
    "derefpole = 0.\n",
    "intderef  = 2.\n",
    "\n",
    "N1 = 6*32\n",
    "N2 = 4*32\n",
    "N3 = 4*32\n",
    "\n",
    "dr0 = np.log(Rout/Rin) / N1\n",
    "th0 = np.pi / N2\n",
    "ph0 = 2*np.pi / N3 / 2**derefpole\n",
    "\n",
    "ncells_phi = N3*2**derefpole\n",
    "ncells_pole = N3 / 2.**intderef\n",
    "\n",
    "print('Resolution: ', N1,N2,N3)\n",
    "print('ncells in phi: %d'%ncells_phi)\n",
    "print('ncells of base grid in phi after internal derefinement: %d'%ncells_pole)\n",
    "\n",
    "print('dr0: %f, dth0: %f, dphi0: %f'%(dr0,th0,ph0))\n",
    "print('aspect ratio: dr0:dth0:dphi0 =  1:%2.2f:%2.2f'%(th0/dr0,ph0/dr0))\n",
    "\n",
    "#print(dr0,Rin*th0,Rin*ph0/2.**dereflev)"
   ]
  },
  {
   "cell_type": "code",
   "execution_count": 23,
   "metadata": {},
   "outputs": [
    {
     "name": "stdout",
     "output_type": "stream",
     "text": [
      "Resolution:  192 128 256\n",
      "ncells in phi: 256\n",
      "ncells of base grid in phi after internal derefinement: 32\n",
      "dr0: 0.027751, dth0: 0.024544, dphi0: 0.024544\n",
      "aspect ratio: dr0:dth0:dphi0 =  1:0.88:0.88\n"
     ]
    }
   ],
   "source": [
    "import numpy as np\n",
    "\n",
    "Rout = 250. \n",
    "Rin  = 1.2131\n",
    "\n",
    "derefpole = 0.\n",
    "intderef  = 3.\n",
    "\n",
    "N1 = 6*32\n",
    "N2 = 4*32\n",
    "N3 = 4*64\n",
    "\n",
    "dr0 = np.log(Rout/Rin) / N1\n",
    "th0 = np.pi / N2\n",
    "ph0 = 2*np.pi / N3 / 2**derefpole\n",
    "\n",
    "ncells_phi = N3*2**derefpole\n",
    "ncells_pole = N3 / 2.**intderef\n",
    "\n",
    "print('Resolution: ', N1,N2,N3)\n",
    "print('ncells in phi: %d'%ncells_phi)\n",
    "print('ncells of base grid in phi after internal derefinement: %d'%ncells_pole)\n",
    "\n",
    "print('dr0: %f, dth0: %f, dphi0: %f'%(dr0,th0,ph0))\n",
    "print('aspect ratio: dr0:dth0:dphi0 =  1:%2.2f:%2.2f'%(th0/dr0,ph0/dr0))\n",
    "\n",
    "#print(dr0,Rin*th0,Rin*ph0/2.**dereflev)"
   ]
  },
  {
   "cell_type": "code",
   "execution_count": 34,
   "metadata": {},
   "outputs": [
    {
     "name": "stdout",
     "output_type": "stream",
     "text": [
      "Resolution:  256 160 160\n",
      "ncells in phi: 160\n",
      "ncells of base grid in phi after internal derefinement: 20\n",
      "dr0: 0.020814, dth0: 0.019635, dphi0: 0.039270\n",
      "aspect ratio: dr0:dth0:dphi0 =  1:0.94:1.89\n"
     ]
    }
   ],
   "source": [
    "import numpy as np\n",
    "\n",
    "Rout = 250. \n",
    "Rin  = 1.2131\n",
    "\n",
    "derefpole = 0.\n",
    "intderef  = 3.\n",
    "\n",
    "N1 = 4*64\n",
    "N2 = 4*40\n",
    "N3 = 4*40\n",
    "\n",
    "dr0 = np.log(Rout/Rin) / N1\n",
    "th0 = np.pi / N2\n",
    "ph0 = 2*np.pi / N3 / 2**derefpole\n",
    "\n",
    "ncells_phi = N3*2**derefpole\n",
    "ncells_pole = N3 / 2.**intderef\n",
    "\n",
    "print('Resolution: ', N1,N2,N3)\n",
    "print('ncells in phi: %d'%ncells_phi)\n",
    "print('ncells of base grid in phi after internal derefinement: %d'%ncells_pole)\n",
    "\n",
    "print('dr0: %f, dth0: %f, dphi0: %f'%(dr0,th0,ph0))\n",
    "print('aspect ratio: dr0:dth0:dphi0 =  1:%2.2f:%2.2f'%(th0/dr0,ph0/dr0))\n",
    "\n",
    "#print(dr0,Rin*th0,Rin*ph0/2.**dereflev)"
   ]
  },
  {
   "cell_type": "markdown",
   "metadata": {},
   "source": [
    "###### print(512/6.)"
   ]
  },
  {
   "cell_type": "code",
   "execution_count": 14,
   "metadata": {},
   "outputs": [
    {
     "name": "stdout",
     "output_type": "stream",
     "text": [
      "39.0\n"
     ]
    }
   ],
   "source": [
    "print(156/4.)"
   ]
  },
  {
   "cell_type": "code",
   "execution_count": 15,
   "metadata": {},
   "outputs": [
    {
     "name": "stdout",
     "output_type": "stream",
     "text": [
      "288\n"
     ]
    }
   ],
   "source": [
    "print(6*12*4)"
   ]
  },
  {
   "cell_type": "code",
   "execution_count": 9,
   "metadata": {},
   "outputs": [
    {
     "name": "stdout",
     "output_type": "stream",
     "text": [
      "24.0\n"
     ]
    }
   ],
   "source": [
    "print(48*4*2/2/2/2/2)"
   ]
  },
  {
   "cell_type": "code",
   "execution_count": 13,
   "metadata": {},
   "outputs": [
    {
     "name": "stdout",
     "output_type": "stream",
     "text": [
      "rblock_new: nmax=840\n",
      "rpar_new: t=9636.514592, dt=0.002868, n_active=7, n_active_total=380, nstep=174720\n",
      "rpar_new: Dtd=50.000000, Dtl=20.000000, Dtr=0.000000, dump_cnt=202, rdump_cnt=466\n",
      "rpar_new: bs1=132, bs2=32, bs3=48, nmax=840, nb1=5, nb2=12, nb3=2\n",
      "rpar_new: nb=380, nx=660, ny=384, nz=96\n",
      "rpar_new: startx1=0.193251, startx2=-0.994792, startx3=0.000000, _dx1=0.008073, _dx2=0.005181, _dx3=0.065450\n",
      "rpar_new: tf=20000000.000000, a=0.937500, gam=1.666667, cour=0.900000, Rin=1.213187, Rout=250.000000, R0=0.000000, fractheta=0.994792, rhor=1.347985\n",
      "rpar_new: nRef=1, N_LEVELS=3\n",
      "rpar_new: dscale=0.000000\n",
      "rgdump_new: flag=0 (0=latest / 1=older version)\n",
      "rdump_new: flag=0 (0=latest / 1=older version)\n",
      "rdump_new: _dx1=0.008073, _dx2=0.005181, _dx3=0.065450\n",
      "readhamr: dir=G:\\Data\\Doosoo\\HAMR_CUDA_bw\\David512\n",
      "readhamr: dump=202\n",
      "readhamr: axisym=1, lowres1=1, lowres2=1, lowres3=1, raddata=1, raddata_h=0\n",
      "readhamr: mpi_cluster=0\n",
      "readhamr: REF_1=0, REF_2=0, REF_3=1, nRef=1\n",
      "readhamr: nx=660, ny=384, nz=384\n",
      "execution time: 1.377388e+01 s\n"
     ]
    }
   ],
   "source": [
    "import os\n",
    "import numpy as np\n",
    "from pyhamrds.readhamr import readhamr\n",
    "\n",
    "#dir = \"D:\\\\HAMR_Data\\\\HAMR_CUDA_RC_David\\\\Cool_3D_6e-16\"\n",
    "#dir = \"F:\\HAMRR_POL_LOWM_3_2D_SC_DYN_512\"\n",
    "dir = \"D:\\\\HAMR\\\\HAMR_CUDA_RC_SUMMIT_devel\\\\HAMR_GPU\\\\HAMR_CUDA\"\n",
    "#dir = \"F:\\HAMRR_POL_MEDM_3_2D_SC_DYN_1024\"\n",
    "dir = \"G:\\\\Data\\\\Doosoo\\\\HAMR_CUDA_bw\\\\David512\"\n",
    "\n",
    "os.chdir(dir)\n",
    "\n",
    "ds = readhamr(dir,202,raddata=True, raddata_h=0, david2d=True, gridall=True, \\\n",
    "              interpolate_var=0,timechk=True, silent=False)"
   ]
  },
  {
   "cell_type": "code",
   "execution_count": 14,
   "metadata": {},
   "outputs": [
    {
     "name": "stdout",
     "output_type": "stream",
     "text": [
      "Passed the inspection~! Data is okay.\n"
     ]
    }
   ],
   "source": [
    "ds.chkdata()"
   ]
  },
  {
   "cell_type": "code",
   "execution_count": 19,
   "metadata": {},
   "outputs": [
    {
     "name": "stdout",
     "output_type": "stream",
     "text": [
      "[  1.2180938   1.2279673   1.2379208   1.2479551   1.2580706   1.2682682\n",
      "   1.2785484   1.2889119   1.2993596   1.3098918   1.3205094   1.3312131\n",
      "   1.3420035   1.3528814   1.3638475   1.3749025   1.386047    1.3972819\n",
      "   1.408608    1.4200257   1.4315361   1.4431397   1.4548373   1.4666299\n",
      "   1.4785179   1.4905024   1.502584    1.5147635   1.5270418   1.5394195\n",
      "   1.5518976   1.5644768   1.5771581   1.5899421   1.6028297   1.6158218\n",
      "   1.6289192   1.6421227   1.6554334   1.6688519   1.6823791   1.6960161\n",
      "   1.7097634   1.7236223   1.7375935   1.751678    1.7658765   1.7801902\n",
      "   1.79462     1.8091667   1.8238313   1.8386147   1.853518    1.8685422\n",
      "   1.8836881   1.8989567   1.9143491   1.9298663   1.9455092   1.961279\n",
      "   1.9771765   1.993203    2.0093594   2.0256467   2.042066    2.0586183\n",
      "   2.075305    2.0921268   2.109085    2.1261806   2.143415    2.1607888\n",
      "   2.1783035   2.1959603   2.2137601   2.2317042   2.2497938   2.2680302\n",
      "   2.2864141   2.3049471   2.3236303   2.3424652   2.3614523   2.3805938\n",
      "   2.3998902   2.419343    2.4389534   2.458723    2.4786527   2.498744\n",
      "   2.5189981   2.5394163   2.5600002   2.5807507   2.6016695   2.6227582\n",
      "   2.6440175   2.6654491   2.6870544   2.708835    2.730792    2.752927\n",
      "   2.7752416   2.797737    2.8204145   2.843276    2.8663228   2.8895564\n",
      "   2.9129784   2.9365902   2.9603934   2.9843895   3.0085802   3.0329669\n",
      "   3.0575511   3.0823348   3.1073194   3.1325064   3.1578977   3.1834948\n",
      "   3.2092993   3.235313    3.2615376   3.2879746   3.314626    3.3414934\n",
      "   3.3685787   3.3958833   3.4234095   3.4511588   3.479133    3.5073338\n",
      "   3.5357633   3.564423    3.5933154   3.6224418   3.6518042   3.6814046\n",
      "   3.711245    3.7413275   3.7716537   3.8022256   3.8330455   3.864115\n",
      "   3.8954363   3.9270117   3.958843    3.9909322   4.0232816   4.0558934\n",
      "   4.088769    4.1219115   4.1553226   4.1890044   4.2229595   4.2571898\n",
      "   4.291697    4.3264847   4.3615537   4.3969073   4.4325476   4.4684763\n",
      "   4.504697    4.5412107   4.57802     4.6151285   4.6525373   4.6902494\n",
      "   4.728267    4.7665935   4.80523     4.8441796   4.8834453   4.9230294\n",
      "   4.962934    5.003162    5.0437164   5.0845995   5.1258135   5.167362\n",
      "   5.209247    5.251472    5.294039    5.336951    5.380211    5.4238214\n",
      "   5.4677854   5.5121055   5.556785    5.601827    5.647234    5.693009\n",
      "   5.739155    5.7856746   5.8325715   5.879849    5.9275093   5.975556\n",
      "   6.023992    6.072821    6.1220455   6.171669    6.221695    6.272126\n",
      "   6.3229666   6.3742185   6.425886    6.4779725   6.5304813   6.5834155\n",
      "   6.636779    6.6905746   6.744807    6.7994785   6.854593    6.9101543\n",
      "   6.966166    7.022632    7.0795555   7.1369405   7.1947904   7.2531095\n",
      "   7.311901    7.371169    7.4309177   7.491151    7.5518723   7.6130853\n",
      "   7.674795    7.7370048   7.799719    7.8629413   7.926676    7.990927\n",
      "   8.055699    8.120996    8.186823    8.253183    8.320082    8.387522\n",
      "   8.455508    8.524047    8.59314     8.662794    8.733012    8.8038\n",
      "   8.87516     8.9471      9.019623    9.092733    9.166436    9.240737\n",
      "   9.3156395   9.3911495   9.467272    9.544011    9.621372    9.69936\n",
      "   9.777981    9.857238    9.937138   10.017686   10.0988865  10.180745\n",
      "  10.2632675  10.346458   10.430324   10.514869   10.6001     10.686021\n",
      "  10.772639   10.85996    10.947987   11.036728   11.126189   11.216374\n",
      "  11.307292   11.398945   11.491342   11.584488   11.678389   11.77305\n",
      "  11.868479   11.964682   12.061664   12.159432   12.257994   12.357353\n",
      "  12.457519   12.5584955  12.660292   12.762912   12.8663645  12.970655\n",
      "  13.075792   13.181781   13.288629   13.396343   13.50493    13.614397\n",
      "  13.724751   13.836      13.948152   14.061212   14.175187   14.290088\n",
      "  14.405919   14.52269    14.640407   14.759077   14.87871    14.999313\n",
      "  15.1208935  15.243459   15.367018   15.491579   15.617149   15.743737\n",
      "  15.871352   16.         16.129692   16.260435   16.392237   16.525108\n",
      "  16.659056   16.79409    16.930218   17.06745    17.205793   17.345259\n",
      "  17.485855   17.62759    17.770475   17.914516   18.059727   18.206114\n",
      "  18.353687   18.502459   18.652433   18.803625   18.956041   19.109695\n",
      "  19.264593   19.420746   19.578165   19.73686    19.896841   20.05812\n",
      "  20.220705   20.38461    20.54984    20.716412   20.884333   21.053616\n",
      "  21.22427    21.396309   21.56974    21.74458    21.920835   22.098518\n",
      "  22.277643   22.45822    22.64026    22.823776   23.00878    23.195282\n",
      "  23.383297   23.572834   23.763908   23.956533   24.150719   24.346478\n",
      "  24.543823   24.742767   24.943325   25.14551    25.349333   25.554808\n",
      "  25.761948   25.970766   26.181278   26.393496   26.607433   26.823107\n",
      "  27.040527   27.25971    27.480669   27.70342    27.927977   28.154352\n",
      "  28.382565   28.612625   28.844551   29.078358   29.314058   29.55167\n",
      "  29.791208   30.032686   30.276123   30.521534   30.768932   31.018337\n",
      "  31.269762   31.523226   31.778746   32.036335   32.296013   32.557796\n",
      "  32.821697   33.08774    33.35594    33.626316   33.898884   34.173656\n",
      "  34.45066    34.729908   35.011417   35.29521    35.581303   35.869717\n",
      "  36.160465   36.45357    36.749054   37.046932   37.347225   37.649952\n",
      "  37.95513    38.262783   38.572933   38.885593   39.20079    39.51854\n",
      "  39.838867   40.16179    40.487328   40.815506   41.146347   41.479866\n",
      "  41.816093   42.15504    42.49674    42.841206   43.188465   43.538536\n",
      "  43.89145    44.24722    44.605877   44.967438   45.331932   45.69938\n",
      "  46.069805   46.443237   46.81969    47.1992     47.581783   47.96747\n",
      "  48.356277   48.74824    49.14338    49.54172    49.943295   50.34812\n",
      "  50.75623    51.167645   51.582394   52.000507   52.42201    52.846928\n",
      "  53.27529    53.707123   54.14246    54.58132    55.023743   55.46975\n",
      "  55.919373   56.37264    56.829582   57.290226   57.754604   58.222748\n",
      "  58.694683   59.17045    59.650066   60.13357    60.621      61.112377\n",
      "  61.607735   62.10711    62.610535   63.11804    63.629654   64.14542\n",
      "  64.66537    65.18952    65.71793    66.250626   66.78763    67.328995\n",
      "  67.87474    68.42492    68.97955    69.53868    70.10234    70.67057\n",
      "  71.24341    71.820885   72.403046   72.98992    73.58156    74.17799\n",
      "  74.77926    75.3854     75.99645    76.61246    77.23346    77.85949\n",
      "  78.49059    79.126816   79.768196   80.41478    81.0666     81.7237\n",
      "  82.38613    83.05393    83.72714    84.40581    85.08998    85.77969\n",
      "  86.475      87.17594    87.88257    88.59492    89.31304    90.036995\n",
      "  90.76681    91.50253    92.24423    92.991936   93.745705   94.50558\n",
      "  95.271614   96.04386    96.822365   97.60718    98.39835    99.195946\n",
      " 100.        100.81057   101.627716  102.451485  103.28192   104.1191\n",
      " 104.96306   105.81386   106.67156   107.53621   108.40787   109.28659\n",
      " 110.17244   111.06547   111.96573   112.87329   113.788216  114.71055\n",
      " 115.64036   116.577705  117.52265   118.47526   119.435585  120.4037\n",
      " 121.37966   122.363525  123.35537   124.355255  125.36324   126.3794\n",
      " 127.4038    128.43651   129.47757   130.52708   131.5851    132.65169\n",
      " 133.72693   134.81088   135.90363   137.00522   138.11574   139.23528\n",
      " 140.36388   141.50162   142.64859   143.80487   144.9705    146.1456\n",
      " 147.33022   148.52443   149.72833   150.94199   152.16548   153.39888\n",
      " 154.6423    155.89578   157.15942   158.43332   159.71754   161.01216\n",
      " 162.31728   163.63298   164.95935   166.29646   167.64441   169.0033\n",
      " 170.37318   171.75418   173.14638   174.54985   175.9647    177.39102\n",
      " 178.8289    180.27844   181.73973   183.21286   184.69794   186.19504\n",
      " 187.70428   189.22577   190.75958   192.30582   193.8646    195.436\n",
      " 197.02016   198.61716   200.22708   201.85007   203.4862    205.13562\n",
      " 206.79839   208.47464   210.16447   211.86801   213.58536   215.31662\n",
      " 217.0619    218.82135   220.59506   222.38313   224.18571   226.0029\n",
      " 227.83482   229.68158   231.54332   233.42015   235.31218   237.21956\n",
      " 239.1424    241.08081   243.03494   245.00493   246.99086   248.9929   ]\n"
     ]
    }
   ],
   "source": [
    "print(ds.r[0,:,0,0])"
   ]
  },
  {
   "cell_type": "code",
   "execution_count": 20,
   "metadata": {},
   "outputs": [],
   "source": [
    "dr = np.zeros_like(ds.r)\n",
    "dr2 = np.zeros_like(ds.r)\n",
    "\n",
    "dr[0,1:] = ds.r[0,1:] - ds.r[0,:-1]\n",
    "dr[0,0] = dr[0,1]\n",
    "\n",
    "dr2 = ds._dx1 * ds.dxdxp[1,1,:,:,:,0]"
   ]
  },
  {
   "cell_type": "code",
   "execution_count": 21,
   "metadata": {},
   "outputs": [
    {
     "name": "stdout",
     "output_type": "stream",
     "text": [
      "[0.00987351 0.00987351 0.0099535  0.01003432 0.0101155  0.01019764\n",
      " 0.01028013 0.01036358 0.01044762 0.01053226 0.01061761 0.01070368\n",
      " 0.01079035 0.01087797 0.01096606 0.01105499 0.01114452 0.01123488\n",
      " 0.01132607 0.01141775 0.01151037 0.01160359 0.01169765 0.01179254\n",
      " 0.01188803 0.01198447 0.01208162 0.01217949 0.01227832 0.01237774\n",
      " 0.01247811 0.0125792  0.01268125 0.012784   0.0128876  0.01299214\n",
      " 0.01309741 0.0132035  0.01331067 0.01341844 0.01352727 0.01363695\n",
      " 0.01374733 0.01385891 0.01397121 0.01408446 0.01419854 0.0143137\n",
      " 0.01442981 0.01454663 0.01466465 0.01478338 0.01490331 0.01502419\n",
      " 0.0151459  0.01526856 0.01539242 0.01551723 0.01564288 0.01576984\n",
      " 0.01589751 0.0160265  0.01615632 0.01628733 0.01641941 0.01655221\n",
      " 0.01668668 0.01682186 0.01695824 0.01709557 0.01723433 0.0173738\n",
      " 0.01751471 0.0176568  0.01779985 0.0179441  0.01808953 0.0182364\n",
      " 0.01838398 0.01853299 0.0186832  0.01883483 0.01898718 0.01914144\n",
      " 0.01929641 0.01945281 0.0196104  0.01976967 0.01992965 0.0200913\n",
      " 0.02025414 0.02041817 0.02058387 0.02075052 0.02091885 0.0210886\n",
      " 0.02125931 0.02143168 0.02160525 0.02178049 0.02195716 0.02213502\n",
      " 0.02231455 0.02249527 0.02267766 0.02286148 0.02304673 0.02323365\n",
      " 0.023422   0.02361178 0.02380323 0.02399611 0.02419066 0.02438664\n",
      " 0.02458429 0.02478361 0.0249846  0.02518702 0.02539134 0.0255971\n",
      " 0.02580452 0.02601361 0.02622461 0.02643704 0.02665138 0.02686739\n",
      " 0.0270853  0.02730465 0.02752614 0.0277493  0.02797413 0.02820086\n",
      " 0.02842951 0.02865982 0.02889228 0.02912641 0.02936244 0.02960038\n",
      " 0.02984047 0.03008246 0.03032613 0.03057194 0.03081989 0.03106952\n",
      " 0.03132129 0.03157544 0.03183126 0.03208923 0.03234935 0.03261185\n",
      " 0.03287554 0.03314257 0.03341103 0.03368187 0.0339551  0.03423023\n",
      " 0.03450727 0.03478765 0.03506899 0.03535366 0.03564024 0.03592873\n",
      " 0.03622055 0.03651381 0.03680944 0.03710842 0.03740883 0.0377121\n",
      " 0.03801775 0.03832626 0.03863668 0.03894949 0.03926563 0.03958416\n",
      " 0.03990459 0.04022789 0.04055452 0.04088306 0.04121399 0.04154873\n",
      " 0.0418849  0.04222488 0.04256678 0.04291201 0.0432601  0.04361057\n",
      " 0.04396391 0.04432011 0.04467964 0.04504204 0.04540682 0.04577494\n",
      " 0.04614592 0.04651976 0.04689693 0.04727745 0.04766035 0.04804659\n",
      " 0.04843616 0.04882908 0.04922438 0.04962349 0.05002594 0.05043125\n",
      " 0.05084038 0.05125189 0.05166769 0.05208635 0.05250883 0.05293417\n",
      " 0.05336332 0.05379581 0.05423212 0.05467176 0.05511427 0.05556154\n",
      " 0.05601168 0.0564661  0.05692339 0.05738497 0.05784988 0.05831909\n",
      " 0.05879164 0.059268   0.05974865 0.06023312 0.0607214  0.06121302\n",
      " 0.06170988 0.06220961 0.0627141  0.06322241 0.06373453 0.06425142\n",
      " 0.06477213 0.06529713 0.06582642 0.06636047 0.06689835 0.06744003\n",
      " 0.06798649 0.06853867 0.06909275 0.06965446 0.07021809 0.07078743\n",
      " 0.07136059 0.07193947 0.07252312 0.07311058 0.07370281 0.07430077\n",
      " 0.07490253 0.07551003 0.07612228 0.07673931 0.07736111 0.07798767\n",
      " 0.07862091 0.07925701 0.07989979 0.08054829 0.0812006  0.08185863\n",
      " 0.08252239 0.08319092 0.08386517 0.08454514 0.08523083 0.08592129\n",
      " 0.08661842 0.08732033 0.088027   0.0887413  0.08946133 0.09018517\n",
      " 0.09091759 0.09165287 0.09239674 0.09314632 0.09390068 0.09466171\n",
      " 0.09542847 0.09620285 0.096982   0.09776878 0.09856129 0.09935951\n",
      " 0.10016537 0.10097694 0.10179615 0.10262012 0.10345268 0.10429096\n",
      " 0.10513687 0.1059885  0.10684776 0.10771465 0.10858631 0.10946751\n",
      " 0.11035442 0.11124897 0.11215115 0.11306    0.11397552 0.11490059\n",
      " 0.11583138 0.11677074 0.11771679 0.11867046 0.11963272 0.12060356\n",
      " 0.12158012 0.12256527 0.123559   0.12456131 0.1255703  0.12658787\n",
      " 0.12761497 0.1286478  0.12969208 0.13074303 0.1318016  0.13287163\n",
      " 0.13394737 0.13503456 0.13612747 0.13723183 0.13834381 0.13946533\n",
      " 0.14059639 0.14173508 0.14288521 0.14404106 0.14521027 0.1463871\n",
      " 0.14757347 0.14877129 0.14997482 0.15119171 0.15241623 0.1536541\n",
      " 0.15489769 0.15615273 0.1574192  0.15869522 0.15998077 0.16127968\n",
      " 0.1625843  0.16390419 0.1652317  0.16657066 0.16792107 0.16928291\n",
      " 0.1706543  0.17203903 0.1734314  0.17483902 0.17625618 0.17768288\n",
      " 0.17912483 0.18057632 0.18204117 0.18351555 0.18500328 0.18650246\n",
      " 0.18801498 0.18953705 0.19107437 0.19262505 0.19418526 0.19575882\n",
      " 0.19734573 0.19894409 0.20055771 0.20218468 0.20382309 0.20547485\n",
      " 0.20713997 0.20881844 0.21051216 0.21221733 0.21393776 0.21567345\n",
      " 0.21742058 0.21918297 0.22095871 0.22275162 0.22455597 0.22637558\n",
      " 0.22821236 0.23006058 0.23192596 0.23380661 0.2357006  0.23761177\n",
      " 0.2395382  0.24147797 0.24343681 0.24541092 0.24739838 0.2494049\n",
      " 0.2514248  0.25346375 0.25551987 0.25758934 0.2596779  0.2617836\n",
      " 0.26390076 0.26604462 0.26819992 0.2703743  0.27256775 0.27477264\n",
      " 0.27700424 0.27924728 0.2815094  0.2837944  0.28609085 0.288414\n",
      " 0.2907486  0.29310608 0.29548264 0.29787827 0.30029297 0.30272675\n",
      " 0.3051796  0.30765152 0.31015015 0.31266022 0.315197   0.31774902\n",
      " 0.32032776 0.32292175 0.32553864 0.3281784  0.33084106 0.33351898\n",
      " 0.33622742 0.3389473  0.3416977  0.34446716 0.34725952 0.35007095\n",
      " 0.3529129  0.3557701  0.35865784 0.36156082 0.36449432 0.3674469\n",
      " 0.37042618 0.37343216 0.3764534  0.37950897 0.38258362 0.38568497\n",
      " 0.3888092  0.39196396 0.3951378  0.39834213 0.40157318 0.40482712\n",
      " 0.40810776 0.4114151  0.41474915 0.4181137  0.42150116 0.42491913\n",
      " 0.4283638  0.43183136 0.43533707 0.43886185 0.44242096 0.44600677\n",
      " 0.4496231  0.45326614 0.4569435  0.46064377 0.46437836 0.46814346\n",
      " 0.47193527 0.47576523 0.47961807 0.48350525 0.48742676 0.49137878\n",
      " 0.4953575  0.4993744  0.5034256  0.5075035  0.51161575 0.5157623\n",
      " 0.51995087 0.52415466 0.52841187 0.53269196 0.53700256 0.5413666\n",
      " 0.54574585 0.5501785  0.5546341  0.5591278  0.56365967 0.5682297\n",
      " 0.5728378  0.5774765  0.58216095 0.5868759  0.59163666 0.59643555\n",
      " 0.60126495 0.60614014 0.61105347 0.61600494 0.6210022  0.62602997\n",
      " 0.6311035  0.63622284 0.6413803  0.64658356 0.6518173  0.6571045\n",
      " 0.6624298  0.6678009  0.67321014 0.67866516 0.6841736  0.6897125\n",
      " 0.6953049  0.700943   0.7066269  0.71234894 0.7181244  0.72395325\n",
      " 0.7298126  0.7357254  0.7416992  0.74770355 0.7537689  0.75987244\n",
      " 0.766037   0.7722473  0.7785034  0.7848129  0.79117584 0.79759216\n",
      " 0.80405426 0.81056976 0.8171463  0.8237686  0.8304367  0.8371811\n",
      " 0.843956   0.85079956 0.85770416 0.8646469  0.8716583  0.87872314\n",
      " 0.885849   0.89302826 0.9002609  0.90756226 0.9149246  0.92233276\n",
      " 0.9298096  0.9373474  0.9449463  0.9526062  0.96032715 0.96811676\n",
      " 0.9759598  0.98386383 0.9918442  0.99988556 1.007988   1.016159\n",
      " 1.0243988  1.0327072  1.0410614  1.0495148  1.0580139  1.0665894\n",
      " 1.0752411  1.0839539  1.0927429  1.101593   1.1105194  1.1195374\n",
      " 1.1286011  1.1377411  1.1469727  1.1562805  1.1656342  1.1750946\n",
      " 1.1846161  1.1942139  1.2039032  1.2136536  1.2234955  1.2333984\n",
      " 1.2434235  1.253479   1.2636414  1.2738953  1.2842255  1.2946167\n",
      " 1.3051147  1.3157043  1.3263702  1.3371124  1.3479462  1.3588867\n",
      " 1.3698883  1.3809967  1.3921967  1.4034729  1.414856   1.4263153\n",
      " 1.4378815  1.4495392  1.4612885  1.4731293  1.4850769  1.4971008\n",
      " 1.5092468  1.5214844  1.5338135  1.5462341  1.5587769  1.5714111\n",
      " 1.5841522  1.5970001  1.6099243  1.6229858  1.6361389  1.6494141\n",
      " 1.6627655  1.6762543  1.6898346  1.703537   1.7173462  1.7312622\n",
      " 1.745285   1.7594452  1.7737122  1.7880707  1.8025818  1.8171844\n",
      " 1.8319244  1.846756   1.8617401  1.876831   1.8920288  1.9073792\n",
      " 1.9228363  1.9384155  1.9541321  1.969986   1.9859314  2.0020447 ]\n"
     ]
    }
   ],
   "source": [
    "print(dr[0,:,10,10])"
   ]
  },
  {
   "cell_type": "code",
   "execution_count": 22,
   "metadata": {},
   "outputs": [
    {
     "name": "stdout",
     "output_type": "stream",
     "text": [
      "[0.00983373 0.00991344 0.00999379 0.0100748  0.01015646 0.01023879\n",
      " 0.01032178 0.01040545 0.01048979 0.01057482 0.01066053 0.01074694\n",
      " 0.01083406 0.01092187 0.0110104  0.01109965 0.01118962 0.01128032\n",
      " 0.01137176 0.01146393 0.01155686 0.01165053 0.01174497 0.01184017\n",
      " 0.01193614 0.01203289 0.01213043 0.01222876 0.01232788 0.0124278\n",
      " 0.01252854 0.01263009 0.01273247 0.01283568 0.01293972 0.0130446\n",
      " 0.01315034 0.01325693 0.01336439 0.01347272 0.01358192 0.01369202\n",
      " 0.013803   0.01391488 0.01402767 0.01414138 0.014256   0.01437156\n",
      " 0.01448805 0.01460549 0.01472387 0.01484322 0.01496354 0.01508483\n",
      " 0.0152071  0.01533036 0.01545463 0.0155799  0.01570619 0.0158335\n",
      " 0.01596184 0.01609122 0.01622165 0.01635314 0.01648569 0.01661932\n",
      " 0.01675403 0.01688984 0.01702674 0.01716475 0.01730389 0.01744415\n",
      " 0.01758554 0.01772809 0.01787179 0.01801665 0.01816269 0.01830991\n",
      " 0.01845833 0.01860794 0.01875877 0.01891083 0.01906411 0.01921864\n",
      " 0.01937442 0.01953147 0.01968978 0.01984938 0.02001028 0.02017247\n",
      " 0.02033599 0.02050082 0.020667   0.02083452 0.0210034  0.02117365\n",
      " 0.02134527 0.02151829 0.02169271 0.02186855 0.02204581 0.02222451\n",
      " 0.02240465 0.02258626 0.02276934 0.0229539  0.02313996 0.02332752\n",
      " 0.02351661 0.02370723 0.02389939 0.02409311 0.02428841 0.02448528\n",
      " 0.02468375 0.02488383 0.02508553 0.02528887 0.02549385 0.0257005\n",
      " 0.02590882 0.02611883 0.02633054 0.02654397 0.02675913 0.02697603\n",
      " 0.02719469 0.02741512 0.02763734 0.02786136 0.0280872  0.02831487\n",
      " 0.02854438 0.02877575 0.029009   0.02924414 0.02948118 0.02972015\n",
      " 0.02996105 0.03020391 0.03044873 0.03069554 0.03094435 0.03119518\n",
      " 0.03144804 0.03170295 0.03195992 0.03221898 0.03248014 0.03274341\n",
      " 0.03300882 0.03327638 0.03354611 0.03381803 0.03409215 0.03436849\n",
      " 0.03464707 0.03492791 0.03521102 0.03549644 0.03578416 0.03607421\n",
      " 0.03636662 0.0366614  0.03695857 0.03725814 0.03756015 0.0378646\n",
      " 0.03817152 0.03848093 0.03879284 0.03910729 0.03942428 0.03974384\n",
      " 0.04006599 0.04039076 0.04071815 0.04104821 0.04138093 0.04171635\n",
      " 0.04205449 0.04239538 0.04273902 0.04308545 0.04343469 0.04378676\n",
      " 0.04414168 0.04449948 0.04486018 0.04522381 0.04559038 0.04595992\n",
      " 0.04633246 0.04670802 0.04708662 0.04746829 0.04785306 0.04824094\n",
      " 0.04863196 0.04902617 0.04942355 0.04982417 0.05022803 0.05063516\n",
      " 0.0510456  0.05145936 0.05187647 0.05229697 0.05272087 0.05314821\n",
      " 0.05357902 0.05401332 0.05445113 0.0548925  0.05533744 0.05578599\n",
      " 0.05623818 0.05669403 0.05715358 0.05761685 0.05808387 0.05855469\n",
      " 0.05902931 0.05950779 0.05999014 0.0604764  0.06096661 0.06146079\n",
      " 0.06195897 0.06246119 0.06296749 0.06347789 0.06399242 0.06451112\n",
      " 0.06503403 0.06556118 0.0660926  0.06662833 0.0671684  0.06771285\n",
      " 0.06826171 0.06881502 0.06937281 0.06993514 0.07050201 0.07107348\n",
      " 0.07164957 0.07223035 0.07281583 0.07340606 0.07400106 0.07460089\n",
      " 0.07520559 0.07581518 0.07642972 0.07704924 0.07767378 0.07830337\n",
      " 0.07893809 0.07957793 0.08022296 0.08087324 0.08152878 0.08218962\n",
      " 0.08285583 0.08352743 0.08420448 0.08488703 0.08557509 0.08626874\n",
      " 0.08696801 0.08767295 0.0883836  0.08910001 0.08982223 0.0905503\n",
      " 0.09128429 0.09202421 0.09277013 0.0935221  0.09428017 0.09504437\n",
      " 0.09581477 0.09659142 0.09737436 0.09816366 0.09895935 0.09976148\n",
      " 0.10057012 0.10138531 0.10220712 0.10303557 0.10387075 0.10471269\n",
      " 0.10556147 0.10641712 0.10727971 0.10814929 0.10902592 0.10990965\n",
      " 0.11080055 0.11169866 0.11260407 0.11351681 0.11443694 0.11536454\n",
      " 0.11629964 0.11724234 0.11819267 0.11915071 0.12011651 0.12109014\n",
      " 0.12207167 0.12306114 0.12405864 0.12506422 0.12607796 0.12709992\n",
      " 0.12813015 0.12916873 0.13021575 0.13127124 0.13233528 0.13340795\n",
      " 0.13448933 0.13557947 0.13667843 0.1377863  0.13890316 0.14002907\n",
      " 0.14116411 0.14230834 0.14346187 0.14462471 0.145797   0.1469788\n",
      " 0.14817016 0.14937119 0.15058196 0.15180252 0.15303299 0.15427345\n",
      " 0.15552394 0.15678458 0.15805542 0.15933658 0.16062811 0.16193013\n",
      " 0.16324268 0.16456589 0.16589981 0.16724454 0.16860017 0.1699668\n",
      " 0.1713445  0.17273338 0.17413351 0.17554499 0.1769679  0.17840235\n",
      " 0.17984843 0.18130624 0.18277587 0.18425739 0.18575093 0.18725657\n",
      " 0.18877442 0.19030458 0.19184712 0.19340219 0.19496986 0.19655024\n",
      " 0.19814341 0.1997495  0.2013686  0.20300086 0.20464632 0.20630513\n",
      " 0.20797738 0.20966318 0.21136266 0.2130759  0.21480303 0.21654417\n",
      " 0.21829942 0.22006889 0.2218527  0.22365099 0.22546384 0.22729138\n",
      " 0.22913374 0.23099104 0.23286338 0.23475091 0.23665373 0.23857199\n",
      " 0.24050578 0.24245526 0.24442053 0.24640174 0.248399   0.25041246\n",
      " 0.2524422  0.25448844 0.25655127 0.2586308  0.2607272  0.2628406\n",
      " 0.26497108 0.26711887 0.26928404 0.2714668  0.27366725 0.2758855\n",
      " 0.27812177 0.28037614 0.28264877 0.28493986 0.28724948 0.28957787\n",
      " 0.2919251  0.29429135 0.29667678 0.2990816  0.30150586 0.3039498\n",
      " 0.30641353 0.3088972  0.31140107 0.31392518 0.3164698  0.319035\n",
      " 0.321621   0.32422796 0.32685605 0.32950544 0.33217636 0.33486885\n",
      " 0.33758324 0.34031957 0.3430781  0.34585902 0.34866247 0.3514886\n",
      " 0.3543377  0.35720983 0.36010528 0.36302418 0.36596677 0.36893317\n",
      " 0.37192366 0.3749384  0.37797752 0.38104132 0.3841299  0.38724357\n",
      " 0.39038244 0.3935468  0.39673674 0.3999526  0.40319452 0.4064627\n",
      " 0.40975738 0.41307876 0.41642702 0.4198025  0.4232053  0.42663568\n",
      " 0.43009388 0.43358007 0.43709457 0.4406375  0.4442092  0.44780985\n",
      " 0.45143965 0.4550989  0.45878783 0.46250662 0.46625558 0.47003493\n",
      " 0.47384486 0.47768575 0.48155773 0.4854611  0.4893961  0.49336302\n",
      " 0.49736208 0.50139356 0.5054577  0.5095548  0.5136851  0.5178489\n",
      " 0.52204645 0.526278   0.53054386 0.53484434 0.53917956 0.5435501\n",
      " 0.5479559  0.5523975  0.5568751  0.56138897 0.5659394  0.5705268\n",
      " 0.5751513  0.5798133  0.5845131  0.589251   0.5940273  0.5988423\n",
      " 0.6036964  0.60858977 0.6135228  0.6184959  0.6235093  0.6285632\n",
      " 0.6336582  0.6387944  0.6439723  0.6491922  0.65445435 0.65975916\n",
      " 0.665107   0.6704982  0.67593306 0.681412   0.6869353  0.6925034\n",
      " 0.6981166  0.70377535 0.70948    0.7152308  0.72102827 0.7268728\n",
      " 0.7327646  0.73870414 0.7446919  0.7507282  0.75681335 0.76294786\n",
      " 0.76913214 0.7753665  0.7816514  0.78798723 0.7943744  0.80081344\n",
      " 0.80730456 0.8138484  0.82044524 0.8270955  0.83379966 0.8405583\n",
      " 0.8473716  0.8542401  0.8611644  0.86814475 0.8751817  0.88227564\n",
      " 0.8894272  0.8966366  0.90390444 0.9112313  0.9186175  0.92606354\n",
      " 0.9335699  0.94113714 0.94876575 0.9564562  0.96420896 0.9720246\n",
      " 0.9799036  0.9878464  0.99585354 1.0039257  1.0120633  1.0202667\n",
      " 1.0285367  1.0368738  1.0452783  1.0537511  1.0622926  1.0709032\n",
      " 1.0795836  1.0883344  1.0971562  1.1060494  1.1150147  1.1240528\n",
      " 1.133164   1.142349   1.1516086  1.1609433  1.1703535  1.1798401\n",
      " 1.1894035  1.1990446  1.2087637  1.2185615  1.2284389  1.2383962\n",
      " 1.2484344  1.2585539  1.2687552  1.2790395  1.289407   1.2998586\n",
      " 1.3103948  1.3210166  1.3317244  1.3425189  1.3534011  1.3643714\n",
      " 1.3754306  1.3865794  1.3978187  1.4091489  1.4205711  1.4320859\n",
      " 1.443694   1.4553962  1.4671931  1.4790858  1.4910749  1.5031611\n",
      " 1.5153453  1.5276283  1.5400108  1.5524937  1.5650778  1.5777638\n",
      " 1.5905528  1.6034454  1.6164424  1.6295449  1.6427535  1.6560693\n",
      " 1.6694928  1.6830254  1.6966674  1.7104201  1.7242844  1.738261\n",
      " 1.7523507  1.7665548  1.780874   1.7953092  1.8098615  1.8245318\n",
      " 1.839321   1.8542299  1.8692598  1.8844116  1.899686   1.9150844\n",
      " 1.9306076  1.9462564  1.9620322  1.977936   1.9939685  2.0101311 ]\n"
     ]
    }
   ],
   "source": [
    "print(dr2[0,:,10])"
   ]
  },
  {
   "cell_type": "code",
   "execution_count": 24,
   "metadata": {},
   "outputs": [
    {
     "name": "stdout",
     "output_type": "stream",
     "text": [
      "1.2131867454091887 250.0\n",
      "660 384 384\n",
      "0.008073045979399287 0.008181230868723419 0.016362461737446838\n",
      "0.008073045979399287 0.009965506211905756 0.01993101242381151\n"
     ]
    }
   ],
   "source": [
    "\"\"\" Aspect Ratio at first grid \"\"\"\n",
    "\n",
    "dr0 = np.log(ds.Rout/ds.Rin)/ds.bs1new\n",
    "#dr0 = np.log(ds.Rout/ds.Rin)/np.power(ds.bs1new,ds.Rin)\n",
    "th0 = np.pi/ds.bs2new\n",
    "ph0 = np.pi*2./ds.bs3new\n",
    "\n",
    "print(ds.Rin, ds.Rout)\n",
    "print(ds.bs1new,ds.bs2new,ds.bs3new)\n",
    "print(dr0,th0,ph0)\n",
    "print(dr0,ds.r[0,0,0,0]*th0,ds.r[0,0,0,0]*ph0)"
   ]
  },
  {
   "cell_type": "code",
   "execution_count": null,
   "metadata": {},
   "outputs": [],
   "source": []
  }
 ],
 "metadata": {
  "kernelspec": {
   "display_name": "Python 3",
   "language": "python",
   "name": "python3"
  },
  "language_info": {
   "codemirror_mode": {
    "name": "ipython",
    "version": 3
   },
   "file_extension": ".py",
   "mimetype": "text/x-python",
   "name": "python",
   "nbconvert_exporter": "python",
   "pygments_lexer": "ipython3",
   "version": "3.7.6"
  }
 },
 "nbformat": 4,
 "nbformat_minor": 2
}
