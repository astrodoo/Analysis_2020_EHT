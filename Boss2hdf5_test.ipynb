{
 "cells": [
  {
   "cell_type": "code",
   "execution_count": 3,
   "metadata": {},
   "outputs": [
    {
     "name": "stdout",
     "output_type": "stream",
     "text": [
      "===================================== header ==================================\n",
      "width: 20.134000 Rg, offset: 0.000000 Rg, resolution: 400, Number of obs. freqs: 1\n",
      "time: 9124.150162 Rg/c, inclination: 10.000000 deg, phi: 0.000000 deg, BH spin: 0.000000\n",
      "Luminosity correction: 4.762071e+22, Jansky correction: 6.025933e-01, Micro Arcsecond correction: 5.029644e+00\n",
      "Frequencies of intereset [GHz]: [230.]\n",
      "All-freq image is included (3rd column in image data): False\n",
      "===============================================================================\n",
      "length of data: 480000\n",
      "xmin: -101.266842, xmax: 101.266842, ymin: -101.266842, ymax: 101.266842\n",
      "intensity (min,max)= 0.0 0.000364388\n",
      "Total flux = 2.006344 Jy at 230 GHz\n"
     ]
    }
   ],
   "source": [
    "from pyhamrds import bhoss\n",
    "import os\n",
    "\n",
    "#datadir = '/ccs/home/astrodoo/MEMW/BHOSS/BHOSS_CODE/outcomes/C3D2R512'\n",
    "#data = 'GRRT_IMAGE_bhoss_data80.dat'\n",
    "\n",
    "basedir = \"/home/astrodoo/projects/rrg-dhaggard/astrodoo/EHT_bhoss/BHOSS_outcomes\"\n",
    "datadir = os.path.join(basedir,'bhoss_SA0')\n",
    "data = \"Rhigh_1_incl_10_IMAGE_GRMHD_HAMR3D_SANEA0_652.dat\"\n",
    "#data = \"Rh40_Rl1_sig1_i10_ph0_SgrA_Th_IMAGE_GRMHD_HAMR3D_SANEA93M_132.dat\"\n",
    "#datadir = \"/lustre04/scratch/astrodoo/BHOSS_EHT_old/BHOSS_CODE\"\n",
    "\n",
    "bhdata = bhoss.read_image(os.path.join(datadir,data),silent=False,ifreq=0)  # Koushik's data - only 230GHz"
   ]
  },
  {
   "cell_type": "code",
   "execution_count": 4,
   "metadata": {},
   "outputs": [],
   "source": [
    "outdir = os.path.join(basedir,'bhoss2hdf5','bhoss_SA0')\n",
    "\n",
    "bhdata.dump2hdf5(outdir=outdir,source='SgrA', Rhigh=1, Rlow=1, sigmacut=1, betacrit=1, \\\n",
    "                 normflux=2., acc='SANE', tilt=0.)"
   ]
  },
  {
   "cell_type": "markdown",
   "metadata": {},
   "source": [
    "# Read the sample"
   ]
  },
  {
   "cell_type": "code",
   "execution_count": 53,
   "metadata": {},
   "outputs": [],
   "source": [
    "import h5py\n",
    "import numpy as np\n",
    "import os\n",
    "\n",
    "basedir = \"/home/astrodoo/projects/rrg-dhaggard/astrodoo/EHT_bhoss/BHOSS_outcomes\"\n",
    "outdir = os.path.join(basedir,'bhoss2hdf5','bhoss_SA0')\n",
    "\n",
    "# file open\n",
    "f = h5py.File(os.path.join(outdir,\"test.h5\"),\"r\")"
   ]
  },
  {
   "cell_type": "code",
   "execution_count": 5,
   "metadata": {},
   "outputs": [
    {
     "name": "stdout",
     "output_type": "stream",
     "text": [
      "/header/bh/acc SANE\n",
      "/header/bh/dbh 2.5077305106e+22\n",
      "/header/bh/fov 101\n",
      "/header/bh/inc 10.0\n",
      "/header/bh/mbh 8.234460000000001e+39\n",
      "/header/bh/spin 0.0\n",
      "/header/bh/tilt 0.0\n",
      "/header/bh/time 9124.150161667372\n",
      "/header/camera/dx 40.26800000003976\n",
      "/header/camera/nx 400\n",
      "/header/dsource 2.5077305106e+22\n",
      "/header/emission/Rhigh 1\n",
      "/header/emission/Rlow 1\n",
      "/header/emission/betacrit 1\n",
      "/header/emission/fov 101\n",
      "/header/emission/janskycorr 0.6025932735218865\n",
      "/header/emission/lumcorr 4.762071055774303e+22\n",
      "/header/emission/microcorr 5.029643510174232\n",
      "/header/emission/normflux 2.0\n",
      "/header/emission/sigmacut 1\n",
      "/header/freqcgs 230000000000.0\n",
      "/header/scale 0.6025932735218865\n",
      "/header/t 9124.150161667372\n",
      "/header/units/L_unit 611495034824.0884\n",
      "/header/units/T_unit 20.397278800925953\n",
      "/unpol [[1.22136e-10 1.23503e-10 1.44261e-10 ... 9.60238e-11 4.65826e-11\n",
      "  4.48366e-11]\n",
      " [1.71486e-10 1.29206e-10 2.05770e-10 ... 5.18626e-11 5.21264e-11\n",
      "  5.11311e-11]\n",
      " [1.75254e-10 1.87999e-10 1.69992e-10 ... 6.76583e-11 6.33752e-11\n",
      "  6.14653e-11]\n",
      " ...\n",
      " [1.06223e-09 1.05662e-09 9.70031e-10 ... 1.77729e-12 1.59491e-12\n",
      "  1.49125e-12]\n",
      " [1.08540e-09 1.08862e-09 1.06879e-09 ... 2.22103e-12 2.08551e-12\n",
      "  1.86746e-12]\n",
      " [1.07020e-09 1.10824e-09 1.05902e-09 ... 1.45554e-12 1.37006e-12\n",
      "  1.78733e-12]]\n"
     ]
    }
   ],
   "source": [
    "from pyhamrds import bhoss\n",
    "\n",
    "bhoss.checkhdf5(os.path.join(outdir,\"SgrA_SANE_a0.00_i010_Rh001_Rl01_sigc01_snorm2.0_t09124_f230GHz_np0400_fov101_tilt0.00.h5\"))\n"
   ]
  },
  {
   "cell_type": "code",
   "execution_count": 51,
   "metadata": {},
   "outputs": [
    {
     "name": "stdout",
     "output_type": "stream",
     "text": [
      "header\n",
      "unpol\n"
     ]
    }
   ],
   "source": [
    "for name in f:\n",
    "    print(name)"
   ]
  },
  {
   "cell_type": "code",
   "execution_count": 52,
   "metadata": {},
   "outputs": [
    {
     "name": "stdout",
     "output_type": "stream",
     "text": [
      "header\n",
      "header/bh\n",
      "header/bh/acc\n",
      "header/bh/dbh\n",
      "header/bh/fov\n",
      "header/bh/inc\n",
      "header/bh/mbh\n",
      "header/bh/spin\n",
      "header/bh/tilt\n",
      "header/bh/time\n",
      "header/camera\n",
      "header/camera/dx\n",
      "header/camera/nx\n",
      "header/dsource\n",
      "header/emission\n",
      "header/emission/Rhigh\n",
      "header/emission/Rlow\n",
      "header/emission/betacrit\n",
      "header/emission/fov\n",
      "header/emission/janskycorr\n",
      "header/emission/lumcorr\n",
      "header/emission/microcorr\n",
      "header/emission/normflux\n",
      "header/emission/sigmacut\n",
      "header/freqcgs\n",
      "header/scale\n",
      "header/t\n",
      "header/units\n",
      "header/units/L_unit\n",
      "header/units/T_unit\n",
      "unpol\n"
     ]
    }
   ],
   "source": [
    "def printname(name):\n",
    "    print(name)\n",
    "    \n",
    "f.visit(printname)"
   ]
  },
  {
   "cell_type": "code",
   "execution_count": null,
   "metadata": {},
   "outputs": [],
   "source": [
    "acc = f['header']['bh']['acc'].value\n",
    "print(acc)"
   ]
  },
  {
   "cell_type": "code",
   "execution_count": null,
   "metadata": {},
   "outputs": [],
   "source": [
    "acc = f['header']['bh']['acc'][()]\n",
    "print(acc)\n",
    "print(type(acc))"
   ]
  },
  {
   "cell_type": "code",
   "execution_count": null,
   "metadata": {},
   "outputs": [],
   "source": [
    "print(f.keys())"
   ]
  },
  {
   "cell_type": "code",
   "execution_count": null,
   "metadata": {},
   "outputs": [],
   "source": [
    "print(list(f.keys()))"
   ]
  },
  {
   "cell_type": "code",
   "execution_count": 37,
   "metadata": {},
   "outputs": [],
   "source": [
    "nest0 = list(f.keys())\n",
    "nest1 = list(f[nest0[0]])\n",
    "nest2 = list(f[nest0[0]][nest1[0]])\n",
    "data = f[nest0[0]][nest1[0]][nest2[0]][()]\n",
    "cc = f[nest0[0]][nest1[0]][nest2[0]]"
   ]
  },
  {
   "cell_type": "code",
   "execution_count": 31,
   "metadata": {},
   "outputs": [
    {
     "name": "stdout",
     "output_type": "stream",
     "text": [
      "['bh', 'camera', 'dsource', 'emission', 'freqcgs', 'scale', 't', 'units']\n"
     ]
    }
   ],
   "source": [
    "print(nest1)"
   ]
  },
  {
   "cell_type": "code",
   "execution_count": 32,
   "metadata": {},
   "outputs": [
    {
     "name": "stdout",
     "output_type": "stream",
     "text": [
      "['acc', 'dbh', 'fov', 'inc', 'mbh', 'spin', 'tilt', 'time']\n"
     ]
    }
   ],
   "source": [
    "print(nest2)"
   ]
  },
  {
   "cell_type": "code",
   "execution_count": 38,
   "metadata": {},
   "outputs": [
    {
     "name": "stdout",
     "output_type": "stream",
     "text": [
      "SANE <HDF5 dataset \"acc\": shape (), type \"|O\">\n"
     ]
    }
   ],
   "source": [
    "print(data,cc)"
   ]
  },
  {
   "cell_type": "code",
   "execution_count": 42,
   "metadata": {},
   "outputs": [
    {
     "name": "stdout",
     "output_type": "stream",
     "text": [
      "<class 'h5py._hl.dataset.Dataset'>\n"
     ]
    }
   ],
   "source": [
    "print(type(f[nest0[1]]))"
   ]
  },
  {
   "cell_type": "code",
   "execution_count": 46,
   "metadata": {},
   "outputs": [],
   "source": [
    "if (type(f[nest0[1]]) == 'h5py._hl.dataset.Dataset'):\n",
    "    print('yes')"
   ]
  },
  {
   "cell_type": "code",
   "execution_count": null,
   "metadata": {},
   "outputs": [],
   "source": []
  },
  {
   "cell_type": "code",
   "execution_count": null,
   "metadata": {},
   "outputs": [],
   "source": [
    "data_array = f['unpol'][()]\n",
    "#data_array = f['unpol'][...]\n",
    "print(data_array)\n",
    "print(np.shape(data_array))\n",
    "print(type(data_array))"
   ]
  },
  {
   "cell_type": "code",
   "execution_count": null,
   "metadata": {},
   "outputs": [],
   "source": [
    "\"\"\" Another way to read and check naively \"\"\"\n",
    "with h5py.File(os.path.join(outdir,\"test.h5\"), \"r\") as f:\n",
    "    # List all groups\n",
    "    print(\"Keys: %s\" % f.keys())\n",
    "    a_group_key = list(f.keys())[0]\n",
    "\n",
    "    # Get the data\n",
    "    data = list(f[a_group_key])"
   ]
  },
  {
   "cell_type": "code",
   "execution_count": null,
   "metadata": {},
   "outputs": [],
   "source": [
    "\n",
    "print(data)"
   ]
  },
  {
   "cell_type": "code",
   "execution_count": null,
   "metadata": {},
   "outputs": [],
   "source": [
    "data2"
   ]
  },
  {
   "cell_type": "code",
   "execution_count": null,
   "metadata": {},
   "outputs": [],
   "source": []
  },
  {
   "cell_type": "code",
   "execution_count": 49,
   "metadata": {},
   "outputs": [
    {
     "name": "stdout",
     "output_type": "stream",
     "text": [
      "/header/bh/acc SANE\n",
      "/header/bh/dbh 2.5077305106e+22\n",
      "/header/bh/fov 101\n",
      "/header/bh/inc 10.0\n",
      "/header/bh/mbh 8.234460000000001e+39\n",
      "/header/bh/spin 0.0\n",
      "/header/bh/tilt 0.0\n",
      "/header/bh/time 9124.150161667372\n",
      "/header/camera/dx 40.26800000003976\n",
      "/header/camera/nx 400\n",
      "/header/dsource 2.5077305106e+22\n",
      "/header/emission/Rhigh 1\n",
      "/header/emission/Rlow 1\n",
      "/header/emission/betacrit 1\n",
      "/header/emission/fov 101\n",
      "/header/emission/janskycorr 0.6025932735218865\n",
      "/header/emission/lumcorr 4.762071055774303e+22\n",
      "/header/emission/microcorr 5.029643510174232\n",
      "/header/emission/normflux 2.0\n",
      "/header/emission/sigmacut 1\n",
      "/header/freqcgs 230000000000.0\n",
      "/header/scale 0.6025932735218865\n",
      "/header/t 9124.150161667372\n",
      "/header/units/L_unit 611495034824.0884\n",
      "/header/units/T_unit 20.397278800925953\n",
      "/unpol [[1.22136e-10 1.23503e-10 1.44261e-10 ... 9.60238e-11 4.65826e-11\n",
      "  4.48366e-11]\n",
      " [1.71486e-10 1.29206e-10 2.05770e-10 ... 5.18626e-11 5.21264e-11\n",
      "  5.11311e-11]\n",
      " [1.75254e-10 1.87999e-10 1.69992e-10 ... 6.76583e-11 6.33752e-11\n",
      "  6.14653e-11]\n",
      " ...\n",
      " [1.06223e-09 1.05662e-09 9.70031e-10 ... 1.77729e-12 1.59491e-12\n",
      "  1.49125e-12]\n",
      " [1.08540e-09 1.08862e-09 1.06879e-09 ... 2.22103e-12 2.08551e-12\n",
      "  1.86746e-12]\n",
      " [1.07020e-09 1.10824e-09 1.05902e-09 ... 1.45554e-12 1.37006e-12\n",
      "  1.78733e-12]]\n"
     ]
    }
   ],
   "source": [
    "import h5py\n",
    "\n",
    "def h5py_dataset_iterator(g, prefix=''):\n",
    "    for key in g.keys():\n",
    "        item = g[key]\n",
    "        path = '{}/{}'.format(prefix, key)\n",
    "        if isinstance(item, h5py.Dataset): # test for dataset\n",
    "            yield (path, item)\n",
    "        elif isinstance(item, h5py.Group): # test for group (go down)\n",
    "            yield from h5py_dataset_iterator(item, path)\n",
    "\n",
    "with h5py.File(os.path.join(outdir,\"test.h5\"), 'r') as f:\n",
    "    for (path, dset) in h5py_dataset_iterator(f):\n",
    "        #print(path, dset)\n",
    "        #print(dset[()])\n",
    "        print(path,dset[()])"
   ]
  },
  {
   "cell_type": "code",
   "execution_count": null,
   "metadata": {},
   "outputs": [],
   "source": []
  },
  {
   "cell_type": "code",
   "execution_count": 55,
   "metadata": {},
   "outputs": [],
   "source": [
    "source='SgrA'\n",
    "acc='SANE'\n",
    "spin=0.\n",
    "inclination=50\n",
    "Rhigh=160\n",
    "Rlow=1\n",
    "sigmacut=1\n",
    "normflux=2\n",
    "time=9100\n",
    "freq=230e9\n",
    "M=400\n",
    "fov=80\n",
    "tilt=0\n",
    "fileout='%s_%s_a%1.2f_i%03d_Rh%03d_Rl%02d_sigc%02d_snorm%1.1f_t%05d_f%03dGHz_np%04d_fov%03d_tilt%1.2f' % \\\n",
    "(source,acc,spin,inclination,Rhigh,Rlow,sigmacut,normflux,time,freq/1e9,M,fov,tilt)"
   ]
  },
  {
   "cell_type": "code",
   "execution_count": 56,
   "metadata": {},
   "outputs": [
    {
     "name": "stdout",
     "output_type": "stream",
     "text": [
      "SgrA_SANE_a0.00_i050_Rh160_Rl01_sigc01_snorm2.0_t09100_f230GHz_np0400_fov080_tilt0.00\n"
     ]
    }
   ],
   "source": [
    "print(fileout)"
   ]
  },
  {
   "cell_type": "code",
   "execution_count": null,
   "metadata": {},
   "outputs": [],
   "source": []
  }
 ],
 "metadata": {
  "kernelspec": {
   "display_name": "Python 3",
   "language": "python",
   "name": "python3"
  },
  "language_info": {
   "codemirror_mode": {
    "name": "ipython",
    "version": 3
   },
   "file_extension": ".py",
   "mimetype": "text/x-python",
   "name": "python",
   "nbconvert_exporter": "python",
   "pygments_lexer": "ipython3",
   "version": "3.8.2"
  },
  "toc": {
   "base_numbering": 1,
   "nav_menu": {},
   "number_sections": true,
   "sideBar": true,
   "skip_h1_title": false,
   "title_cell": "Table of Contents",
   "title_sidebar": "Contents",
   "toc_cell": false,
   "toc_position": {},
   "toc_section_display": true,
   "toc_window_display": true
  }
 },
 "nbformat": 4,
 "nbformat_minor": 4
}
